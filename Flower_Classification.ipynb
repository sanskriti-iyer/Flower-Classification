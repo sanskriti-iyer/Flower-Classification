{
  "nbformat": 4,
  "nbformat_minor": 5,
  "metadata": {
    "colab": {
      "provenance": [],
      "include_colab_link": true
    },
    "kernelspec": {
      "display_name": "Python 3",
      "language": "python",
      "name": "python3"
    },
    "language_info": {
      "codemirror_mode": {
        "name": "ipython",
        "version": 3
      },
      "file_extension": ".py",
      "mimetype": "text/x-python",
      "name": "python",
      "nbconvert_exporter": "python",
      "pygments_lexer": "ipython3",
      "version": "3.8.8"
    }
  },
  "cells": [
    {
      "cell_type": "markdown",
      "metadata": {
        "id": "view-in-github",
        "colab_type": "text"
      },
      "source": [
        "<a href=\"https://colab.research.google.com/github/sanskriti-iyer/flower-classification/blob/main/Flower_Classification.ipynb\" target=\"_parent\"><img src=\"https://colab.research.google.com/assets/colab-badge.svg\" alt=\"Open In Colab\"/></a>"
      ]
    },
    {
      "cell_type": "markdown",
      "metadata": {
        "id": "9d24094e"
      },
      "source": [
        "Drive Link for image dataset: https://drive.google.com/drive/folders/1WKQDYqTTKZbvLsR4xIGmojC96LGHdWuQ?usp=sharing\n",
        "\n"
      ],
      "id": "9d24094e"
    },
    {
      "cell_type": "code",
      "metadata": {
        "colab": {
          "base_uri": "https://localhost:8080/"
        },
        "id": "_U5nYhv2Om7w",
        "outputId": "a9852d8c-5e7f-4407-d3e8-049411391ed7"
      },
      "source": [
        "from google.colab import drive\n",
        "drive.mount('/content/gdrive')"
      ],
      "id": "_U5nYhv2Om7w",
      "execution_count": null,
      "outputs": [
        {
          "output_type": "stream",
          "name": "stdout",
          "text": [
            "Drive already mounted at /content/gdrive; to attempt to forcibly remount, call drive.mount(\"/content/gdrive\", force_remount=True).\n"
          ]
        }
      ]
    },
    {
      "cell_type": "code",
      "metadata": {
        "id": "e3425e7a"
      },
      "source": [
        "import numpy as np\n",
        "import tensorflow as tf\n",
        "import pickle\n",
        "from keras.preprocessing.image import ImageDataGenerator"
      ],
      "id": "e3425e7a",
      "execution_count": null,
      "outputs": []
    },
    {
      "cell_type": "markdown",
      "metadata": {
        "id": "U8dVU6UWcNVZ"
      },
      "source": [
        "**1. Preproccesing the data**"
      ],
      "id": "U8dVU6UWcNVZ"
    },
    {
      "cell_type": "code",
      "metadata": {
        "colab": {
          "base_uri": "https://localhost:8080/"
        },
        "id": "7a369d63",
        "outputId": "a699b52c-ffbc-4918-e9df-b7a7cf1aba25"
      },
      "source": [
        "#Training set image proccessing\n",
        "train_datagen = ImageDataGenerator(\n",
        "        rescale=1./255,\n",
        "        shear_range=0.2,\n",
        "        zoom_range=0.2,\n",
        "        horizontal_flip = True)\n",
        "training_set = train_datagen.flow_from_directory(\n",
        "        '/content/gdrive/MyDrive/train_test/flower_train_set',\n",
        "        target_size=(64, 64),                                 #image should be in 64x64\n",
        "        batch_size=32,\n",
        "        class_mode = 'categorical')"
      ],
      "id": "7a369d63",
      "execution_count": null,
      "outputs": [
        {
          "output_type": "stream",
          "name": "stdout",
          "text": [
            "Found 3555 images belonging to 5 classes.\n"
          ]
        }
      ]
    },
    {
      "cell_type": "code",
      "metadata": {
        "colab": {
          "base_uri": "https://localhost:8080/"
        },
        "id": "6f2af103",
        "outputId": "306e4aa3-ecd9-4dbc-e678-7c7ce2c76ec7"
      },
      "source": [
        "#Testing set image proccessing\n",
        "test_datagen = ImageDataGenerator(rescale=1./255)\n",
        "test_set = test_datagen.flow_from_directory(\n",
        "        '/content/gdrive/MyDrive/train_test/flower_test_set',\n",
        "        target_size=(64, 64),\n",
        "        batch_size=32,\n",
        "        class_mode='categorical')"
      ],
      "id": "6f2af103",
      "execution_count": null,
      "outputs": [
        {
          "output_type": "stream",
          "name": "stdout",
          "text": [
            "Found 264 images belonging to 5 classes.\n"
          ]
        }
      ]
    },
    {
      "cell_type": "markdown",
      "metadata": {
        "id": "9_ztcOwFdfUP"
      },
      "source": [
        "**2.Model building**"
      ],
      "id": "9_ztcOwFdfUP"
    },
    {
      "cell_type": "code",
      "metadata": {
        "id": "9803f6bd"
      },
      "source": [
        "cnn = tf.keras.models.Sequential()"
      ],
      "id": "9803f6bd",
      "execution_count": null,
      "outputs": []
    },
    {
      "cell_type": "code",
      "metadata": {
        "id": "c97d980f"
      },
      "source": [
        "#building convolution layer\n",
        "cnn.add(tf.keras.layers.Conv2D(filters=64 , kernel_size=3 , activation='relu' , input_shape=[64,64,3]))\n",
        "cnn.add(tf.keras.layers.MaxPool2D(pool_size=2,strides=2))"
      ],
      "id": "c97d980f",
      "execution_count": null,
      "outputs": []
    },
    {
      "cell_type": "code",
      "metadata": {
        "id": "37ecb387"
      },
      "source": [
        "cnn.add(tf.keras.layers.Conv2D(filters=64 , kernel_size=3 , activation='relu' ))\n",
        "cnn.add(tf.keras.layers.MaxPool2D(pool_size=2 , strides=2))"
      ],
      "id": "37ecb387",
      "execution_count": null,
      "outputs": []
    },
    {
      "cell_type": "code",
      "metadata": {
        "id": "71234ea2"
      },
      "source": [
        "cnn.add(tf.keras.layers.Dropout(0.5))"
      ],
      "id": "71234ea2",
      "execution_count": null,
      "outputs": []
    },
    {
      "cell_type": "code",
      "metadata": {
        "id": "a15e3e70"
      },
      "source": [
        "cnn.add(tf.keras.layers.Flatten())"
      ],
      "id": "a15e3e70",
      "execution_count": null,
      "outputs": []
    },
    {
      "cell_type": "code",
      "metadata": {
        "id": "8d1f32e8"
      },
      "source": [
        "cnn.add(tf.keras.layers.Dense(units=128, activation='relu'))"
      ],
      "id": "8d1f32e8",
      "execution_count": null,
      "outputs": []
    },
    {
      "cell_type": "code",
      "metadata": {
        "id": "c017da24"
      },
      "source": [
        "cnn.add(tf.keras.layers.Dense(units=5 , activation='softmax'))"
      ],
      "id": "c017da24",
      "execution_count": null,
      "outputs": []
    },
    {
      "cell_type": "code",
      "metadata": {
        "id": "a827ea6f"
      },
      "source": [
        "cnn.compile(optimizer = 'rmsprop' , loss = 'categorical_crossentropy' , metrics = ['accuracy'])"
      ],
      "id": "a827ea6f",
      "execution_count": null,
      "outputs": []
    },
    {
      "cell_type": "code",
      "metadata": {
        "colab": {
          "base_uri": "https://localhost:8080/"
        },
        "id": "a1c5a2e2",
        "outputId": "1580d5cd-2dc2-40b2-8c09-bb19060db0c6"
      },
      "source": [
        "#New Image Preproccesing\n",
        "cnn.fit(x = training_set , validation_data = test_set , epochs = 30)"
      ],
      "id": "a1c5a2e2",
      "execution_count": null,
      "outputs": [
        {
          "output_type": "stream",
          "name": "stdout",
          "text": [
            "Epoch 1/30\n",
            "112/112 [==============================] - 742s 7s/step - loss: 1.2143 - accuracy: 0.4534 - val_loss: 2.5159 - val_accuracy: 0.4205\n",
            "Epoch 2/30\n",
            "112/112 [==============================] - 48s 423ms/step - loss: 0.9704 - accuracy: 0.5938 - val_loss: 3.2387 - val_accuracy: 0.5341\n",
            "Epoch 3/30\n",
            "112/112 [==============================] - 48s 425ms/step - loss: 0.8931 - accuracy: 0.6380 - val_loss: 3.0693 - val_accuracy: 0.5720\n",
            "Epoch 4/30\n",
            "112/112 [==============================] - 48s 432ms/step - loss: 0.8153 - accuracy: 0.6714 - val_loss: 3.6618 - val_accuracy: 0.6553\n",
            "Epoch 5/30\n",
            "112/112 [==============================] - 48s 426ms/step - loss: 0.7754 - accuracy: 0.6821 - val_loss: 3.8969 - val_accuracy: 0.6439\n",
            "Epoch 6/30\n",
            "112/112 [==============================] - 48s 424ms/step - loss: 0.7310 - accuracy: 0.7162 - val_loss: 4.7017 - val_accuracy: 0.5909\n",
            "Epoch 7/30\n",
            "112/112 [==============================] - 48s 429ms/step - loss: 0.7044 - accuracy: 0.7257 - val_loss: 5.7361 - val_accuracy: 0.6553\n",
            "Epoch 8/30\n",
            "112/112 [==============================] - 47s 422ms/step - loss: 0.6785 - accuracy: 0.7235 - val_loss: 5.0612 - val_accuracy: 0.6780\n",
            "Epoch 9/30\n",
            "112/112 [==============================] - 47s 423ms/step - loss: 0.6665 - accuracy: 0.7390 - val_loss: 6.4933 - val_accuracy: 0.6402\n",
            "Epoch 10/30\n",
            "112/112 [==============================] - 47s 421ms/step - loss: 0.6525 - accuracy: 0.7446 - val_loss: 8.5707 - val_accuracy: 0.6742\n",
            "Epoch 11/30\n",
            "112/112 [==============================] - 48s 427ms/step - loss: 0.6424 - accuracy: 0.7527 - val_loss: 9.4825 - val_accuracy: 0.6856\n",
            "Epoch 12/30\n",
            "112/112 [==============================] - 48s 427ms/step - loss: 0.6159 - accuracy: 0.7575 - val_loss: 7.3757 - val_accuracy: 0.6894\n",
            "Epoch 13/30\n",
            "112/112 [==============================] - 48s 428ms/step - loss: 0.6100 - accuracy: 0.7674 - val_loss: 8.4741 - val_accuracy: 0.6591\n",
            "Epoch 14/30\n",
            "112/112 [==============================] - 48s 425ms/step - loss: 0.5977 - accuracy: 0.7716 - val_loss: 7.9792 - val_accuracy: 0.6477\n",
            "Epoch 15/30\n",
            "112/112 [==============================] - 47s 419ms/step - loss: 0.5569 - accuracy: 0.7868 - val_loss: 12.0052 - val_accuracy: 0.6780\n",
            "Epoch 16/30\n",
            "112/112 [==============================] - 46s 414ms/step - loss: 0.5680 - accuracy: 0.7823 - val_loss: 9.5330 - val_accuracy: 0.6439\n",
            "Epoch 17/30\n",
            "112/112 [==============================] - 46s 413ms/step - loss: 0.5376 - accuracy: 0.7913 - val_loss: 13.5336 - val_accuracy: 0.6818\n",
            "Epoch 18/30\n",
            "112/112 [==============================] - 47s 415ms/step - loss: 0.5408 - accuracy: 0.7913 - val_loss: 13.2894 - val_accuracy: 0.6932\n",
            "Epoch 19/30\n",
            "112/112 [==============================] - 47s 415ms/step - loss: 0.5177 - accuracy: 0.8073 - val_loss: 17.1055 - val_accuracy: 0.7008\n",
            "Epoch 20/30\n",
            "112/112 [==============================] - 47s 420ms/step - loss: 0.5248 - accuracy: 0.8042 - val_loss: 12.3409 - val_accuracy: 0.6553\n",
            "Epoch 21/30\n",
            "112/112 [==============================] - 47s 419ms/step - loss: 0.5071 - accuracy: 0.8101 - val_loss: 12.1497 - val_accuracy: 0.7008\n",
            "Epoch 22/30\n",
            "112/112 [==============================] - 47s 419ms/step - loss: 0.5036 - accuracy: 0.8037 - val_loss: 14.8153 - val_accuracy: 0.7159\n",
            "Epoch 23/30\n",
            "112/112 [==============================] - 47s 418ms/step - loss: 0.4943 - accuracy: 0.8208 - val_loss: 11.3373 - val_accuracy: 0.6591\n",
            "Epoch 24/30\n",
            "112/112 [==============================] - 47s 418ms/step - loss: 0.4821 - accuracy: 0.8211 - val_loss: 16.2425 - val_accuracy: 0.7197\n",
            "Epoch 25/30\n",
            "112/112 [==============================] - 47s 420ms/step - loss: 0.4694 - accuracy: 0.8287 - val_loss: 12.7591 - val_accuracy: 0.7045\n",
            "Epoch 26/30\n",
            "112/112 [==============================] - 47s 418ms/step - loss: 0.4517 - accuracy: 0.8262 - val_loss: 16.6949 - val_accuracy: 0.7159\n",
            "Epoch 27/30\n",
            "112/112 [==============================] - 47s 416ms/step - loss: 0.4584 - accuracy: 0.8304 - val_loss: 19.9301 - val_accuracy: 0.7121\n",
            "Epoch 28/30\n",
            "112/112 [==============================] - 47s 418ms/step - loss: 0.4455 - accuracy: 0.8270 - val_loss: 19.4607 - val_accuracy: 0.7348\n",
            "Epoch 29/30\n",
            "112/112 [==============================] - 47s 419ms/step - loss: 0.4368 - accuracy: 0.8329 - val_loss: 19.4003 - val_accuracy: 0.7273\n",
            "Epoch 30/30\n",
            "112/112 [==============================] - 47s 420ms/step - loss: 0.4383 - accuracy: 0.8352 - val_loss: 26.9886 - val_accuracy: 0.6932\n"
          ]
        },
        {
          "output_type": "execute_result",
          "data": {
            "text/plain": [
              "<keras.callbacks.History at 0x7fb51bca0890>"
            ]
          },
          "metadata": {},
          "execution_count": 17
        }
      ]
    },
    {
      "cell_type": "code",
      "metadata": {
        "id": "a788d8ad",
        "colab": {
          "base_uri": "https://localhost:8080/"
        },
        "outputId": "323e2db5-18bf-49c1-c5ce-c700881d8bca"
      },
      "source": [
        "from keras.preprocessing import image\n",
        "test_image = image.load_img('/content/gdrive/MyDrive/train_test/Prediction/dandelion.jpg',target_size=(64,64))\n",
        "test_image = image.img_to_array(test_image)\n",
        "test_image = np.expand_dims(test_image,axis=0)\n",
        "result = cnn.predict(test_image)\n",
        "training_set.class_indices"
      ],
      "id": "a788d8ad",
      "execution_count": null,
      "outputs": [
        {
          "output_type": "execute_result",
          "data": {
            "text/plain": [
              "{'daisy': 0, 'dandelion': 1, 'rose': 2, 'sunflower': 3, 'tulip': 4}"
            ]
          },
          "metadata": {},
          "execution_count": 18
        }
      ]
    },
    {
      "cell_type": "code",
      "metadata": {
        "id": "d03ca51a",
        "colab": {
          "base_uri": "https://localhost:8080/"
        },
        "outputId": "06b22bb1-54c3-46bd-ef93-bf06213902dc"
      },
      "source": [
        "if result[0][0]==1:\n",
        "    print('Daisy')\n",
        "elif result[0][1]==1:\n",
        "    print('Dandelion')\n",
        "elif result[0][2]==1:\n",
        "    print('Rose')\n",
        "elif result[0][3]==1:\n",
        "    print('SunFlower')\n",
        "elif result[0][4]==1:\n",
        "    print(\"Tulip\")"
      ],
      "id": "d03ca51a",
      "execution_count": null,
      "outputs": [
        {
          "output_type": "stream",
          "name": "stdout",
          "text": [
            "Tulip\n"
          ]
        }
      ]
    }
  ]
}